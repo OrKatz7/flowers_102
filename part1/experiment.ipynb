{
 "cells": [
  {
   "cell_type": "markdown",
   "metadata": {},
   "source": [
    "# Config"
   ]
  },
  {
   "cell_type": "code",
   "execution_count": 2,
   "metadata": {},
   "outputs": [],
   "source": [
    "CFG = {\n",
    "    'CUDA_VISIBLE_DEVICES':'0',\n",
    "    'seed':123,\n",
    "    \n",
    "    'test_size':0.3,\n",
    "    \n",
    "    'model_1': {\n",
    "        'num_features':28*28,\n",
    "        'num_hidden':50,\n",
    "        'num_classes':10,\n",
    "        'num_epochs':200, \n",
    "        'learning_rate':0.1,\n",
    "        'minibatch_size':100\n",
    "    },\n",
    "    \n",
    "    'model_2': {\n",
    "        'num_features':28*28,\n",
    "        'num_hidden':50,\n",
    "        'num_hidden_2':50,                     \n",
    "        'num_classes':10,\n",
    "        'num_epochs':200, \n",
    "        'learning_rate':0.1,\n",
    "        'minibatch_size':100\n",
    "    },\n",
    "    'model_3': {\n",
    "        'input_dim':28*28,\n",
    "        'hidden_dim':50,\n",
    "        'output_dim':10,\n",
    "        'batch_size': 100,\n",
    "        'criterion': 'torch.nn.CrossEntropyLoss',\n",
    "        'optimizer': {'name':'torch.optim.SGD', 'params': {'lr':0.1}},\n",
    "    }\n",
    "}"
   ]
  },
  {
   "cell_type": "markdown",
   "metadata": {},
   "source": [
    "# Import Libraries"
   ]
  },
  {
   "cell_type": "code",
   "execution_count": 3,
   "metadata": {
    "executionInfo": {
     "elapsed": 275,
     "status": "ok",
     "timestamp": 1654627391319,
     "user": {
      "displayName": "Dan Presil",
      "userId": "15000716463230738543"
     },
     "user_tz": -180
    },
    "id": "oKtZo8eLKkJm"
   },
   "outputs": [
    {
     "name": "stderr",
     "output_type": "stream",
     "text": [
      "<frozen importlib._bootstrap>:219: RuntimeWarning: scipy._lib.messagestream.MessageStream size changed, may indicate binary incompatibility. Expected 56 from C header, got 64 from PyObject\n"
     ]
    }
   ],
   "source": [
    "import os\n",
    "os.environ[\"CUDA_VISIBLE_DEVICES\"]=CFG['CUDA_VISIBLE_DEVICES']\n",
    "import utils\n",
    "import numpy as np\n",
    "from sklearn.metrics import confusion_matrix\n",
    "from sklearn.metrics import accuracy_score\n",
    "import numpy as np\n",
    "from sklearn.metrics import roc_auc_score\n",
    "from sklearn.datasets import make_multilabel_classification\n",
    "from sklearn.multioutput import MultiOutputClassifier\n",
    "np.random.seed(CFG['seed'])\n",
    "from sklearn.datasets import fetch_openml\n",
    "import ssl\n",
    "ssl._create_default_https_context = ssl._create_unverified_context\n",
    "from matplotlib import pyplot as plt\n",
    "import torch\n",
    "import multiprocessing\n",
    "import model_1_hidden_layer\n",
    "import model_2_hidden_layers\n",
    "import model_3_pytorch_ann\n",
    "import pandas as pd"
   ]
  },
  {
   "cell_type": "markdown",
   "metadata": {},
   "source": [
    "# Loading Data"
   ]
  },
  {
   "cell_type": "code",
   "execution_count": 3,
   "metadata": {
    "colab": {
     "base_uri": "https://localhost:8080/"
    },
    "executionInfo": {
     "elapsed": 49224,
     "status": "ok",
     "timestamp": 1654627442115,
     "user": {
      "displayName": "Dan Presil",
      "userId": "15000716463230738543"
     },
     "user_tz": -180
    },
    "id": "HbYZRvHHKkJn",
    "outputId": "76a47577-e52b-4f43-bbe6-70c42b51e0b7"
   },
   "outputs": [],
   "source": [
    "X, y = fetch_openml('mnist_784', version=1, return_X_y=True)\n",
    "X = X.values\n",
    "X = ((X / 255.) - .5) * 2\n",
    "y = y.astype(int).values\n",
    "\n",
    "from sklearn.model_selection import train_test_split\n",
    "X_train, X_test, y_train, y_test = train_test_split(X, y, test_size=CFG['test_size'], random_state=CFG['seed'], stratify=y)"
   ]
  },
  {
   "cell_type": "markdown",
   "metadata": {
    "id": "g-cjI7r-KkJr"
   },
   "source": [
    "# Model 1 - Single Hidden Layer (Numpy)"
   ]
  },
  {
   "cell_type": "code",
   "execution_count": 5,
   "metadata": {
    "id": "SueuyunOKkJs"
   },
   "outputs": [],
   "source": [
    "model = model_1_hidden_layer.NeuralNetMLP(\n",
    "    num_features=CFG['model_1']['num_features'],\n",
    "    num_hidden=CFG['model_1']['num_hidden'],\n",
    "    num_classes=CFG['model_1']['num_classes']\n",
    ")"
   ]
  },
  {
   "cell_type": "code",
   "execution_count": 6,
   "metadata": {
    "colab": {
     "base_uri": "https://localhost:8080/",
     "height": 321
    },
    "id": "RobHO5b9KkJt",
    "outputId": "00df0d2c-ea8a-42c7-b63e-1526a628a6a9",
    "tags": []
   },
   "outputs": [
    {
     "name": "stdout",
     "output_type": "stream",
     "text": [
      "Epoch: 001/200 | Train MSE: 0.05 | Train Acc: 74.70% | Valid Acc: 74.41%\n",
      "Epoch: 002/200 | Train MSE: 0.03 | Train Acc: 84.20% | Valid Acc: 84.24%\n",
      "Epoch: 003/200 | Train MSE: 0.03 | Train Acc: 87.56% | Valid Acc: 87.49%\n",
      "Epoch: 004/200 | Train MSE: 0.02 | Train Acc: 88.69% | Valid Acc: 88.68%\n",
      "Epoch: 005/200 | Train MSE: 0.02 | Train Acc: 89.84% | Valid Acc: 89.67%\n",
      "Epoch: 006/200 | Train MSE: 0.02 | Train Acc: 90.40% | Valid Acc: 90.25%\n",
      "Epoch: 007/200 | Train MSE: 0.02 | Train Acc: 90.84% | Valid Acc: 90.65%\n",
      "Epoch: 008/200 | Train MSE: 0.02 | Train Acc: 91.17% | Valid Acc: 91.03%\n",
      "Epoch: 009/200 | Train MSE: 0.02 | Train Acc: 91.42% | Valid Acc: 91.29%\n",
      "Epoch: 010/200 | Train MSE: 0.01 | Train Acc: 91.65% | Valid Acc: 91.45%\n",
      "Epoch: 011/200 | Train MSE: 0.01 | Train Acc: 91.97% | Valid Acc: 91.84%\n",
      "Epoch: 012/200 | Train MSE: 0.01 | Train Acc: 92.18% | Valid Acc: 91.85%\n",
      "Epoch: 013/200 | Train MSE: 0.01 | Train Acc: 92.38% | Valid Acc: 92.05%\n",
      "Epoch: 014/200 | Train MSE: 0.01 | Train Acc: 92.60% | Valid Acc: 92.29%\n",
      "Epoch: 015/200 | Train MSE: 0.01 | Train Acc: 92.74% | Valid Acc: 92.31%\n",
      "Epoch: 016/200 | Train MSE: 0.01 | Train Acc: 92.91% | Valid Acc: 92.48%\n",
      "Epoch: 017/200 | Train MSE: 0.01 | Train Acc: 93.05% | Valid Acc: 92.46%\n",
      "EarlyStopping counter: 1 out of 7\n",
      "Epoch: 018/200 | Train MSE: 0.01 | Train Acc: 93.22% | Valid Acc: 92.60%\n",
      "Epoch: 019/200 | Train MSE: 0.01 | Train Acc: 93.30% | Valid Acc: 92.74%\n",
      "Epoch: 020/200 | Train MSE: 0.01 | Train Acc: 93.44% | Valid Acc: 92.87%\n",
      "Epoch: 021/200 | Train MSE: 0.01 | Train Acc: 93.51% | Valid Acc: 92.86%\n",
      "EarlyStopping counter: 1 out of 7\n",
      "Epoch: 022/200 | Train MSE: 0.01 | Train Acc: 93.63% | Valid Acc: 93.08%\n",
      "Epoch: 023/200 | Train MSE: 0.01 | Train Acc: 93.72% | Valid Acc: 93.14%\n",
      "Epoch: 024/200 | Train MSE: 0.01 | Train Acc: 93.79% | Valid Acc: 93.21%\n",
      "Epoch: 025/200 | Train MSE: 0.01 | Train Acc: 93.89% | Valid Acc: 93.28%\n",
      "Epoch: 026/200 | Train MSE: 0.01 | Train Acc: 93.98% | Valid Acc: 93.34%\n",
      "Epoch: 027/200 | Train MSE: 0.01 | Train Acc: 94.07% | Valid Acc: 93.41%\n",
      "Epoch: 028/200 | Train MSE: 0.01 | Train Acc: 94.16% | Valid Acc: 93.51%\n",
      "Epoch: 029/200 | Train MSE: 0.01 | Train Acc: 94.23% | Valid Acc: 93.64%\n",
      "Epoch: 030/200 | Train MSE: 0.01 | Train Acc: 94.29% | Valid Acc: 93.58%\n",
      "EarlyStopping counter: 1 out of 7\n",
      "Epoch: 031/200 | Train MSE: 0.01 | Train Acc: 94.35% | Valid Acc: 93.68%\n",
      "Epoch: 032/200 | Train MSE: 0.01 | Train Acc: 94.39% | Valid Acc: 93.74%\n",
      "Epoch: 033/200 | Train MSE: 0.01 | Train Acc: 94.53% | Valid Acc: 93.91%\n",
      "Epoch: 034/200 | Train MSE: 0.01 | Train Acc: 94.62% | Valid Acc: 93.91%\n",
      "Epoch: 035/200 | Train MSE: 0.01 | Train Acc: 94.67% | Valid Acc: 93.95%\n",
      "Epoch: 036/200 | Train MSE: 0.01 | Train Acc: 94.70% | Valid Acc: 93.96%\n",
      "Epoch: 037/200 | Train MSE: 0.01 | Train Acc: 94.71% | Valid Acc: 94.06%\n",
      "Epoch: 038/200 | Train MSE: 0.01 | Train Acc: 94.80% | Valid Acc: 94.13%\n",
      "Epoch: 039/200 | Train MSE: 0.01 | Train Acc: 94.87% | Valid Acc: 94.14%\n",
      "Epoch: 040/200 | Train MSE: 0.01 | Train Acc: 94.93% | Valid Acc: 94.15%\n",
      "Epoch: 041/200 | Train MSE: 0.01 | Train Acc: 94.98% | Valid Acc: 94.19%\n",
      "Epoch: 042/200 | Train MSE: 0.01 | Train Acc: 95.00% | Valid Acc: 94.31%\n",
      "Epoch: 043/200 | Train MSE: 0.01 | Train Acc: 95.07% | Valid Acc: 94.31%\n",
      "Epoch: 044/200 | Train MSE: 0.01 | Train Acc: 95.16% | Valid Acc: 94.24%\n",
      "EarlyStopping counter: 1 out of 7\n",
      "Epoch: 045/200 | Train MSE: 0.01 | Train Acc: 95.17% | Valid Acc: 94.40%\n",
      "Epoch: 046/200 | Train MSE: 0.01 | Train Acc: 95.23% | Valid Acc: 94.40%\n",
      "Epoch: 047/200 | Train MSE: 0.01 | Train Acc: 95.30% | Valid Acc: 94.53%\n",
      "Epoch: 048/200 | Train MSE: 0.01 | Train Acc: 95.35% | Valid Acc: 94.50%\n",
      "EarlyStopping counter: 1 out of 7\n",
      "Epoch: 049/200 | Train MSE: 0.01 | Train Acc: 95.37% | Valid Acc: 94.52%\n",
      "EarlyStopping counter: 2 out of 7\n",
      "Epoch: 050/200 | Train MSE: 0.01 | Train Acc: 95.43% | Valid Acc: 94.56%\n",
      "Epoch: 051/200 | Train MSE: 0.01 | Train Acc: 95.48% | Valid Acc: 94.58%\n",
      "Epoch: 052/200 | Train MSE: 0.01 | Train Acc: 95.47% | Valid Acc: 94.60%\n",
      "Epoch: 053/200 | Train MSE: 0.01 | Train Acc: 95.55% | Valid Acc: 94.68%\n",
      "Epoch: 054/200 | Train MSE: 0.01 | Train Acc: 95.62% | Valid Acc: 94.70%\n",
      "Epoch: 055/200 | Train MSE: 0.01 | Train Acc: 95.57% | Valid Acc: 94.66%\n",
      "EarlyStopping counter: 1 out of 7\n",
      "Epoch: 056/200 | Train MSE: 0.01 | Train Acc: 95.64% | Valid Acc: 94.74%\n",
      "Epoch: 057/200 | Train MSE: 0.01 | Train Acc: 95.66% | Valid Acc: 94.69%\n",
      "EarlyStopping counter: 1 out of 7\n",
      "Epoch: 058/200 | Train MSE: 0.01 | Train Acc: 95.76% | Valid Acc: 94.81%\n",
      "Epoch: 059/200 | Train MSE: 0.01 | Train Acc: 95.75% | Valid Acc: 94.80%\n",
      "EarlyStopping counter: 1 out of 7\n",
      "Epoch: 060/200 | Train MSE: 0.01 | Train Acc: 95.81% | Valid Acc: 94.78%\n",
      "EarlyStopping counter: 2 out of 7\n",
      "Epoch: 061/200 | Train MSE: 0.01 | Train Acc: 95.81% | Valid Acc: 94.79%\n",
      "EarlyStopping counter: 3 out of 7\n",
      "Epoch: 062/200 | Train MSE: 0.01 | Train Acc: 95.89% | Valid Acc: 94.89%\n",
      "Epoch: 063/200 | Train MSE: 0.01 | Train Acc: 95.90% | Valid Acc: 94.82%\n",
      "EarlyStopping counter: 1 out of 7\n",
      "Epoch: 064/200 | Train MSE: 0.01 | Train Acc: 95.96% | Valid Acc: 94.93%\n",
      "Epoch: 065/200 | Train MSE: 0.01 | Train Acc: 95.96% | Valid Acc: 94.87%\n",
      "EarlyStopping counter: 1 out of 7\n",
      "Epoch: 066/200 | Train MSE: 0.01 | Train Acc: 96.00% | Valid Acc: 94.95%\n",
      "Epoch: 067/200 | Train MSE: 0.01 | Train Acc: 96.05% | Valid Acc: 94.96%\n",
      "Epoch: 068/200 | Train MSE: 0.01 | Train Acc: 96.06% | Valid Acc: 94.93%\n",
      "EarlyStopping counter: 1 out of 7\n",
      "Epoch: 069/200 | Train MSE: 0.01 | Train Acc: 96.08% | Valid Acc: 95.01%\n",
      "Epoch: 070/200 | Train MSE: 0.01 | Train Acc: 96.14% | Valid Acc: 95.12%\n",
      "Epoch: 071/200 | Train MSE: 0.01 | Train Acc: 96.17% | Valid Acc: 95.10%\n",
      "EarlyStopping counter: 1 out of 7\n",
      "Epoch: 072/200 | Train MSE: 0.01 | Train Acc: 96.16% | Valid Acc: 95.07%\n",
      "EarlyStopping counter: 2 out of 7\n",
      "Epoch: 073/200 | Train MSE: 0.01 | Train Acc: 96.22% | Valid Acc: 95.12%\n",
      "Epoch: 074/200 | Train MSE: 0.01 | Train Acc: 96.24% | Valid Acc: 95.10%\n",
      "EarlyStopping counter: 1 out of 7\n",
      "Epoch: 075/200 | Train MSE: 0.01 | Train Acc: 96.31% | Valid Acc: 95.12%\n",
      "EarlyStopping counter: 2 out of 7\n",
      "Epoch: 076/200 | Train MSE: 0.01 | Train Acc: 96.32% | Valid Acc: 95.10%\n",
      "EarlyStopping counter: 3 out of 7\n",
      "Epoch: 077/200 | Train MSE: 0.01 | Train Acc: 96.36% | Valid Acc: 95.15%\n",
      "Epoch: 078/200 | Train MSE: 0.01 | Train Acc: 96.36% | Valid Acc: 95.10%\n",
      "EarlyStopping counter: 1 out of 7\n",
      "Epoch: 079/200 | Train MSE: 0.01 | Train Acc: 96.38% | Valid Acc: 95.17%\n",
      "Epoch: 080/200 | Train MSE: 0.01 | Train Acc: 96.42% | Valid Acc: 95.18%\n",
      "Epoch: 081/200 | Train MSE: 0.01 | Train Acc: 96.42% | Valid Acc: 95.26%\n",
      "Epoch: 082/200 | Train MSE: 0.01 | Train Acc: 96.44% | Valid Acc: 95.28%\n",
      "Epoch: 083/200 | Train MSE: 0.01 | Train Acc: 96.51% | Valid Acc: 95.26%\n",
      "EarlyStopping counter: 1 out of 7\n",
      "Epoch: 084/200 | Train MSE: 0.01 | Train Acc: 96.53% | Valid Acc: 95.26%\n",
      "EarlyStopping counter: 2 out of 7\n",
      "Epoch: 085/200 | Train MSE: 0.01 | Train Acc: 96.57% | Valid Acc: 95.35%\n",
      "Epoch: 086/200 | Train MSE: 0.01 | Train Acc: 96.60% | Valid Acc: 95.33%\n",
      "EarlyStopping counter: 1 out of 7\n",
      "Epoch: 087/200 | Train MSE: 0.01 | Train Acc: 96.64% | Valid Acc: 95.35%\n",
      "Epoch: 088/200 | Train MSE: 0.01 | Train Acc: 96.65% | Valid Acc: 95.38%\n",
      "Epoch: 089/200 | Train MSE: 0.01 | Train Acc: 96.70% | Valid Acc: 95.35%\n",
      "EarlyStopping counter: 1 out of 7\n",
      "Epoch: 090/200 | Train MSE: 0.01 | Train Acc: 96.71% | Valid Acc: 95.38%\n",
      "Epoch: 091/200 | Train MSE: 0.01 | Train Acc: 96.70% | Valid Acc: 95.32%\n",
      "EarlyStopping counter: 1 out of 7\n",
      "Epoch: 092/200 | Train MSE: 0.01 | Train Acc: 96.73% | Valid Acc: 95.42%\n",
      "Epoch: 093/200 | Train MSE: 0.01 | Train Acc: 96.76% | Valid Acc: 95.36%\n",
      "EarlyStopping counter: 1 out of 7\n",
      "Epoch: 094/200 | Train MSE: 0.01 | Train Acc: 96.76% | Valid Acc: 95.38%\n",
      "EarlyStopping counter: 2 out of 7\n",
      "Epoch: 095/200 | Train MSE: 0.01 | Train Acc: 96.80% | Valid Acc: 95.46%\n",
      "Epoch: 096/200 | Train MSE: 0.01 | Train Acc: 96.84% | Valid Acc: 95.47%\n",
      "Epoch: 097/200 | Train MSE: 0.01 | Train Acc: 96.80% | Valid Acc: 95.46%\n",
      "EarlyStopping counter: 1 out of 7\n",
      "Epoch: 098/200 | Train MSE: 0.01 | Train Acc: 96.90% | Valid Acc: 95.49%\n",
      "Epoch: 099/200 | Train MSE: 0.01 | Train Acc: 96.88% | Valid Acc: 95.55%\n",
      "Epoch: 100/200 | Train MSE: 0.01 | Train Acc: 96.91% | Valid Acc: 95.53%\n",
      "EarlyStopping counter: 1 out of 7\n",
      "Epoch: 101/200 | Train MSE: 0.01 | Train Acc: 96.96% | Valid Acc: 95.52%\n",
      "EarlyStopping counter: 2 out of 7\n",
      "Epoch: 102/200 | Train MSE: 0.01 | Train Acc: 96.92% | Valid Acc: 95.53%\n",
      "EarlyStopping counter: 3 out of 7\n",
      "Epoch: 103/200 | Train MSE: 0.01 | Train Acc: 96.99% | Valid Acc: 95.58%\n",
      "Epoch: 104/200 | Train MSE: 0.01 | Train Acc: 96.97% | Valid Acc: 95.53%\n",
      "EarlyStopping counter: 1 out of 7\n",
      "Epoch: 105/200 | Train MSE: 0.01 | Train Acc: 96.97% | Valid Acc: 95.58%\n",
      "Epoch: 106/200 | Train MSE: 0.01 | Train Acc: 97.06% | Valid Acc: 95.60%\n",
      "Epoch: 107/200 | Train MSE: 0.01 | Train Acc: 97.06% | Valid Acc: 95.62%\n",
      "Epoch: 108/200 | Train MSE: 0.01 | Train Acc: 97.09% | Valid Acc: 95.63%\n",
      "Epoch: 109/200 | Train MSE: 0.01 | Train Acc: 97.11% | Valid Acc: 95.66%\n",
      "Epoch: 110/200 | Train MSE: 0.01 | Train Acc: 97.08% | Valid Acc: 95.61%\n",
      "EarlyStopping counter: 1 out of 7\n",
      "Epoch: 111/200 | Train MSE: 0.01 | Train Acc: 97.11% | Valid Acc: 95.61%\n",
      "EarlyStopping counter: 2 out of 7\n",
      "Epoch: 112/200 | Train MSE: 0.01 | Train Acc: 97.10% | Valid Acc: 95.62%\n",
      "EarlyStopping counter: 3 out of 7\n",
      "Epoch: 113/200 | Train MSE: 0.01 | Train Acc: 97.15% | Valid Acc: 95.67%\n",
      "Epoch: 114/200 | Train MSE: 0.01 | Train Acc: 97.16% | Valid Acc: 95.66%\n",
      "EarlyStopping counter: 1 out of 7\n",
      "Epoch: 115/200 | Train MSE: 0.01 | Train Acc: 97.17% | Valid Acc: 95.66%\n",
      "EarlyStopping counter: 2 out of 7\n",
      "Epoch: 116/200 | Train MSE: 0.01 | Train Acc: 97.19% | Valid Acc: 95.70%\n",
      "Epoch: 117/200 | Train MSE: 0.01 | Train Acc: 97.21% | Valid Acc: 95.70%\n",
      "Epoch: 118/200 | Train MSE: 0.01 | Train Acc: 97.25% | Valid Acc: 95.70%\n",
      "Epoch: 119/200 | Train MSE: 0.01 | Train Acc: 97.24% | Valid Acc: 95.75%\n",
      "Epoch: 120/200 | Train MSE: 0.01 | Train Acc: 97.28% | Valid Acc: 95.77%\n",
      "Epoch: 121/200 | Train MSE: 0.01 | Train Acc: 97.27% | Valid Acc: 95.57%\n",
      "EarlyStopping counter: 1 out of 7\n",
      "Epoch: 122/200 | Train MSE: 0.01 | Train Acc: 97.32% | Valid Acc: 95.82%\n",
      "Epoch: 123/200 | Train MSE: 0.01 | Train Acc: 97.32% | Valid Acc: 95.72%\n",
      "EarlyStopping counter: 1 out of 7\n",
      "Epoch: 124/200 | Train MSE: 0.01 | Train Acc: 97.29% | Valid Acc: 95.75%\n",
      "EarlyStopping counter: 2 out of 7\n",
      "Epoch: 125/200 | Train MSE: 0.01 | Train Acc: 97.34% | Valid Acc: 95.77%\n",
      "EarlyStopping counter: 3 out of 7\n",
      "Epoch: 126/200 | Train MSE: 0.01 | Train Acc: 97.39% | Valid Acc: 95.80%\n",
      "EarlyStopping counter: 4 out of 7\n",
      "Epoch: 127/200 | Train MSE: 0.01 | Train Acc: 97.35% | Valid Acc: 95.76%\n",
      "EarlyStopping counter: 5 out of 7\n",
      "Epoch: 128/200 | Train MSE: 0.01 | Train Acc: 97.38% | Valid Acc: 95.82%\n",
      "Epoch: 129/200 | Train MSE: 0.01 | Train Acc: 97.42% | Valid Acc: 95.83%\n",
      "Epoch: 130/200 | Train MSE: 0.01 | Train Acc: 97.44% | Valid Acc: 95.83%\n",
      "Epoch: 131/200 | Train MSE: 0.01 | Train Acc: 97.44% | Valid Acc: 95.85%\n",
      "Epoch: 132/200 | Train MSE: 0.01 | Train Acc: 97.43% | Valid Acc: 95.83%\n",
      "EarlyStopping counter: 1 out of 7\n",
      "Epoch: 133/200 | Train MSE: 0.01 | Train Acc: 97.45% | Valid Acc: 95.87%\n",
      "Epoch: 134/200 | Train MSE: 0.01 | Train Acc: 97.43% | Valid Acc: 95.85%\n",
      "EarlyStopping counter: 1 out of 7\n",
      "Epoch: 135/200 | Train MSE: 0.00 | Train Acc: 97.50% | Valid Acc: 95.91%\n",
      "Epoch: 136/200 | Train MSE: 0.00 | Train Acc: 97.50% | Valid Acc: 95.91%\n",
      "Epoch: 137/200 | Train MSE: 0.00 | Train Acc: 97.52% | Valid Acc: 95.87%\n",
      "EarlyStopping counter: 1 out of 7\n",
      "Epoch: 138/200 | Train MSE: 0.00 | Train Acc: 97.50% | Valid Acc: 95.89%\n",
      "EarlyStopping counter: 2 out of 7\n",
      "Epoch: 139/200 | Train MSE: 0.00 | Train Acc: 97.50% | Valid Acc: 95.87%\n",
      "EarlyStopping counter: 3 out of 7\n",
      "Epoch: 140/200 | Train MSE: 0.00 | Train Acc: 97.58% | Valid Acc: 95.94%\n",
      "Epoch: 141/200 | Train MSE: 0.00 | Train Acc: 97.56% | Valid Acc: 95.95%\n",
      "Epoch: 142/200 | Train MSE: 0.00 | Train Acc: 97.61% | Valid Acc: 95.94%\n",
      "EarlyStopping counter: 1 out of 7\n",
      "Epoch: 143/200 | Train MSE: 0.00 | Train Acc: 97.55% | Valid Acc: 95.86%\n",
      "EarlyStopping counter: 2 out of 7\n",
      "Epoch: 144/200 | Train MSE: 0.00 | Train Acc: 97.59% | Valid Acc: 96.00%\n",
      "Epoch: 145/200 | Train MSE: 0.00 | Train Acc: 97.59% | Valid Acc: 95.91%\n",
      "EarlyStopping counter: 1 out of 7\n",
      "Epoch: 146/200 | Train MSE: 0.00 | Train Acc: 97.60% | Valid Acc: 95.99%\n",
      "EarlyStopping counter: 2 out of 7\n",
      "Epoch: 147/200 | Train MSE: 0.00 | Train Acc: 97.64% | Valid Acc: 95.90%\n",
      "EarlyStopping counter: 3 out of 7\n",
      "Epoch: 148/200 | Train MSE: 0.00 | Train Acc: 97.65% | Valid Acc: 95.98%\n",
      "EarlyStopping counter: 4 out of 7\n",
      "Epoch: 149/200 | Train MSE: 0.00 | Train Acc: 97.68% | Valid Acc: 95.96%\n",
      "EarlyStopping counter: 5 out of 7\n",
      "Epoch: 150/200 | Train MSE: 0.00 | Train Acc: 97.67% | Valid Acc: 95.99%\n",
      "EarlyStopping counter: 6 out of 7\n",
      "Epoch: 151/200 | Train MSE: 0.00 | Train Acc: 97.71% | Valid Acc: 96.06%\n",
      "Epoch: 152/200 | Train MSE: 0.00 | Train Acc: 97.71% | Valid Acc: 96.01%\n",
      "EarlyStopping counter: 1 out of 7\n",
      "Epoch: 153/200 | Train MSE: 0.00 | Train Acc: 97.74% | Valid Acc: 96.01%\n",
      "EarlyStopping counter: 2 out of 7\n",
      "Epoch: 154/200 | Train MSE: 0.00 | Train Acc: 97.73% | Valid Acc: 96.00%\n",
      "EarlyStopping counter: 3 out of 7\n",
      "Epoch: 155/200 | Train MSE: 0.00 | Train Acc: 97.69% | Valid Acc: 96.00%\n",
      "EarlyStopping counter: 4 out of 7\n",
      "Epoch: 156/200 | Train MSE: 0.00 | Train Acc: 97.72% | Valid Acc: 95.98%\n",
      "EarlyStopping counter: 5 out of 7\n",
      "Epoch: 157/200 | Train MSE: 0.00 | Train Acc: 97.76% | Valid Acc: 95.99%\n",
      "EarlyStopping counter: 6 out of 7\n",
      "Epoch: 158/200 | Train MSE: 0.00 | Train Acc: 97.75% | Valid Acc: 96.02%\n",
      "EarlyStopping counter: 7 out of 7\n"
     ]
    }
   ],
   "source": [
    "epoch_loss, epoch_loss_valid, epoch_train_acc, epoch_valid_acc = model.train(\n",
    "    X_train, y_train, X_test, y_test, \n",
    "    num_epochs=CFG['model_1']['num_epochs'], \n",
    "    learning_rate=CFG['model_1']['learning_rate']\n",
    ")"
   ]
  },
  {
   "cell_type": "code",
   "execution_count": 7,
   "metadata": {
    "id": "4hDjZsExKkJt",
    "outputId": "c67df818-95e5-4b6e-a1b5-74e1483db346"
   },
   "outputs": [
    {
     "data": {
      "image/png": "[encoded data removed]",
      "text/plain": [
       "<Figure size 432x288 with 1 Axes>"
      ]
     },
     "metadata": {
      "needs_background": "light"
     },
     "output_type": "display_data"
    }
   ],
   "source": [
    "plt.plot(range(len(epoch_loss)), epoch_loss, label='Train')\n",
    "plt.plot(range(len(epoch_loss_valid)), epoch_loss_valid, label='Test')\n",
    "plt.ylabel('Mean squared error')\n",
    "plt.xlabel('Epoch')\n",
    "plt.legend()\n",
    "os.makedirs('results/model_1/', exist_ok=True)\n",
    "plt.savefig('results/model_1/mse.png')\n",
    "plt.show()"
   ]
  },
  {
   "cell_type": "code",
   "execution_count": 8,
   "metadata": {
    "id": "fsL8aSAYKkJt",
    "outputId": "ffd2bc84-ff9a-4a7d-f9ba-55d2f12ffe76"
   },
   "outputs": [
    {
     "data": {
      "image/png": "[encoded data removed]",
      "text/plain": [
       "<Figure size 432x288 with 1 Axes>"
      ]
     },
     "metadata": {
      "needs_background": "light"
     },
     "output_type": "display_data"
    }
   ],
   "source": [
    "plt.plot(range(len(epoch_train_acc)), epoch_train_acc,label='Train')\n",
    "plt.plot(range(len(epoch_valid_acc)), epoch_valid_acc,label='Test')\n",
    "plt.ylabel('Accuracy')\n",
    "plt.xlabel('Epochs')\n",
    "plt.legend(loc='lower right')\n",
    "os.makedirs('results/model_1/', exist_ok=True)\n",
    "plt.savefig('results/model_1/accuracy.png')\n",
    "plt.show()"
   ]
  },
  {
   "cell_type": "code",
   "execution_count": 9,
   "metadata": {
    "id": "wHTXt4b-KkJu",
    "outputId": "61d223fe-3ce7-403d-82bc-6a610246b816"
   },
   "outputs": [
    {
     "name": "stdout",
     "output_type": "stream",
     "text": [
      "Test accuracy: 96.02%\n"
     ]
    }
   ],
   "source": [
    "mse, acc, proba, targets = utils.compute_mse_and_acc(model, X_test, y_test, return_proba=True)\n",
    "print(f'Test accuracy: {acc*100:.2f}%')"
   ]
  },
  {
   "cell_type": "code",
   "execution_count": 10,
   "metadata": {},
   "outputs": [],
   "source": [
    "df_1 = pd.DataFrame(proba, columns = [f'proba_{p}' for p in range(10)])\n",
    "df_1['pred'] = np.array(proba).argmax(1)\n",
    "df_1['gt'] = np.array(targets)\n",
    "df_1.to_csv('results/model_1/results.csv', index=False)"
   ]
  },
  {
   "cell_type": "code",
   "execution_count": 11,
   "metadata": {
    "id": "BEmmERt8KkJu",
    "outputId": "75c9d65f-2c5e-44b3-f5dc-dcbc96f2d9b7"
   },
   "outputs": [
    {
     "data": {
      "text/plain": [
       "array([[2035,    0,    2,    3,    1,    7,   11,    3,    7,    2],\n",
       "       [   0, 2318,    4,    9,    5,    6,    2,    5,    7,    7],\n",
       "       [  16,    9, 1997,    5,   22,    7,    8,   17,   16,    0],\n",
       "       [   7,    4,   25, 2013,    0,   39,    4,   13,   28,    9],\n",
       "       [   2,    4,    4,    2, 1974,    0,   15,    5,    7,   34],\n",
       "       [   6,    4,    8,   24,    5, 1802,   17,    3,   15,   10],\n",
       "       [   8,    3,    4,    1,    3,   21, 2017,    1,    5,    0],\n",
       "       [   5,   12,   23,    5,   11,    1,    2, 2100,    4,   25],\n",
       "       [   5,    9,   14,   13,   13,   17,   13,    7, 1947,   10],\n",
       "       [  13,    5,    4,   16,   36,   11,    1,   25,   14, 1962]])"
      ]
     },
     "metadata": {},
     "output_type": "display_data"
    },
    {
     "name": "stdout",
     "output_type": "stream",
     "text": [
      "0.9602380952380952\n"
     ]
    }
   ],
   "source": [
    "display(confusion_matrix(targets, np.argmax(proba, 1)))\n",
    "print(accuracy_score(targets, np.argmax(proba, 1)))"
   ]
  },
  {
   "cell_type": "code",
   "execution_count": 12,
   "metadata": {
    "id": "1tr-y2-UPet4",
    "outputId": "6407147f-e556-4fbd-dbdb-5d4de7cecee7"
   },
   "outputs": [
    {
     "name": "stdout",
     "output_type": "stream",
     "text": [
      "Test AUC: 0.995835114250597\n"
     ]
    }
   ],
   "source": [
    "auc = roc_auc_score(utils.int_to_onehot(np.array(targets), 10), utils.sigmoid(np.array(proba)), average='macro', multi_class='ovo')\n",
    "print(f'Test AUC: {auc}')"
   ]
  },
  {
   "cell_type": "markdown",
   "metadata": {
    "id": "tLPEJGIKKkJu"
   },
   "source": [
    "# Model 2 - Two Hidden Layers (Numpy)"
   ]
  },
  {
   "cell_type": "code",
   "execution_count": 14,
   "metadata": {
    "colab": {
     "base_uri": "https://localhost:8080/"
    },
    "id": "7xEEprZxKkJu",
    "outputId": "aa86848a-b1f4-4096-bbb0-942f60adf88d"
   },
   "outputs": [],
   "source": [
    "model = model_2_hidden_layers.NeuralNetMLP_2(\n",
    "    CFG['model_2']['num_features'],\n",
    "    CFG['model_2']['num_hidden'],\n",
    "    CFG['model_2']['num_hidden_2'],\n",
    "    CFG['model_2']['num_classes']\n",
    ")"
   ]
  },
  {
   "cell_type": "code",
   "execution_count": 15,
   "metadata": {
    "colab": {
     "base_uri": "https://localhost:8080/",
     "height": 936
    },
    "id": "enZqslHRKkJv",
    "outputId": "754d4a3a-0679-4949-89df-2549544a858a",
    "tags": []
   },
   "outputs": [
    {
     "name": "stdout",
     "output_type": "stream",
     "text": [
      "Epoch: 001/200 | Train MSE: 0.09 | Train Acc: 18.37% | Valid Acc: 18.57%\n",
      "Epoch: 002/200 | Train MSE: 0.09 | Train Acc: 28.41% | Valid Acc: 28.35%\n",
      "Epoch: 003/200 | Train MSE: 0.08 | Train Acc: 38.18% | Valid Acc: 37.75%\n",
      "Epoch: 004/200 | Train MSE: 0.06 | Train Acc: 61.01% | Valid Acc: 60.93%\n",
      "Epoch: 005/200 | Train MSE: 0.05 | Train Acc: 67.66% | Valid Acc: 67.60%\n",
      "Epoch: 006/200 | Train MSE: 0.04 | Train Acc: 77.39% | Valid Acc: 77.14%\n",
      "Epoch: 007/200 | Train MSE: 0.03 | Train Acc: 84.78% | Valid Acc: 84.32%\n",
      "Epoch: 008/200 | Train MSE: 0.03 | Train Acc: 86.34% | Valid Acc: 86.04%\n",
      "Epoch: 009/200 | Train MSE: 0.02 | Train Acc: 87.77% | Valid Acc: 87.47%\n",
      "Epoch: 010/200 | Train MSE: 0.02 | Train Acc: 88.51% | Valid Acc: 88.39%\n",
      "Epoch: 011/200 | Train MSE: 0.02 | Train Acc: 89.16% | Valid Acc: 89.02%\n",
      "Epoch: 012/200 | Train MSE: 0.02 | Train Acc: 89.83% | Valid Acc: 89.53%\n",
      "Epoch: 013/200 | Train MSE: 0.02 | Train Acc: 90.19% | Valid Acc: 89.83%\n",
      "Epoch: 014/200 | Train MSE: 0.02 | Train Acc: 90.54% | Valid Acc: 90.12%\n",
      "Epoch: 015/200 | Train MSE: 0.02 | Train Acc: 90.87% | Valid Acc: 90.47%\n",
      "Epoch: 016/200 | Train MSE: 0.02 | Train Acc: 91.24% | Valid Acc: 90.82%\n",
      "Epoch: 017/200 | Train MSE: 0.02 | Train Acc: 91.30% | Valid Acc: 90.91%\n",
      "Epoch: 018/200 | Train MSE: 0.01 | Train Acc: 91.72% | Valid Acc: 91.25%\n",
      "Epoch: 019/200 | Train MSE: 0.01 | Train Acc: 91.88% | Valid Acc: 91.35%\n",
      "Epoch: 020/200 | Train MSE: 0.01 | Train Acc: 92.18% | Valid Acc: 91.69%\n",
      "Epoch: 021/200 | Train MSE: 0.01 | Train Acc: 92.47% | Valid Acc: 91.91%\n",
      "Epoch: 022/200 | Train MSE: 0.01 | Train Acc: 92.64% | Valid Acc: 92.03%\n",
      "Epoch: 023/200 | Train MSE: 0.01 | Train Acc: 92.83% | Valid Acc: 92.18%\n",
      "Epoch: 024/200 | Train MSE: 0.01 | Train Acc: 92.95% | Valid Acc: 92.26%\n",
      "Epoch: 025/200 | Train MSE: 0.01 | Train Acc: 93.16% | Valid Acc: 92.49%\n",
      "Epoch: 026/200 | Train MSE: 0.01 | Train Acc: 93.23% | Valid Acc: 92.66%\n",
      "Epoch: 027/200 | Train MSE: 0.01 | Train Acc: 93.42% | Valid Acc: 92.72%\n",
      "Epoch: 028/200 | Train MSE: 0.01 | Train Acc: 93.61% | Valid Acc: 92.92%\n",
      "Epoch: 029/200 | Train MSE: 0.01 | Train Acc: 93.71% | Valid Acc: 93.01%\n",
      "Epoch: 030/200 | Train MSE: 0.01 | Train Acc: 93.82% | Valid Acc: 93.12%\n",
      "Epoch: 031/200 | Train MSE: 0.01 | Train Acc: 94.05% | Valid Acc: 93.30%\n",
      "Epoch: 032/200 | Train MSE: 0.01 | Train Acc: 94.11% | Valid Acc: 93.42%\n",
      "Epoch: 033/200 | Train MSE: 0.01 | Train Acc: 94.24% | Valid Acc: 93.52%\n",
      "Epoch: 034/200 | Train MSE: 0.01 | Train Acc: 94.40% | Valid Acc: 93.56%\n",
      "Epoch: 035/200 | Train MSE: 0.01 | Train Acc: 94.47% | Valid Acc: 93.70%\n",
      "Epoch: 036/200 | Train MSE: 0.01 | Train Acc: 94.62% | Valid Acc: 93.76%\n",
      "Epoch: 037/200 | Train MSE: 0.01 | Train Acc: 94.72% | Valid Acc: 93.89%\n",
      "Epoch: 038/200 | Train MSE: 0.01 | Train Acc: 94.73% | Valid Acc: 93.98%\n",
      "Epoch: 039/200 | Train MSE: 0.01 | Train Acc: 94.89% | Valid Acc: 94.10%\n",
      "Epoch: 040/200 | Train MSE: 0.01 | Train Acc: 95.01% | Valid Acc: 94.06%\n",
      "EarlyStopping counter: 1 out of 7\n",
      "Epoch: 041/200 | Train MSE: 0.01 | Train Acc: 95.06% | Valid Acc: 94.09%\n",
      "EarlyStopping counter: 2 out of 7\n",
      "Epoch: 042/200 | Train MSE: 0.01 | Train Acc: 95.14% | Valid Acc: 94.18%\n",
      "Epoch: 043/200 | Train MSE: 0.01 | Train Acc: 95.23% | Valid Acc: 94.26%\n",
      "Epoch: 044/200 | Train MSE: 0.01 | Train Acc: 95.38% | Valid Acc: 94.38%\n",
      "Epoch: 045/200 | Train MSE: 0.01 | Train Acc: 95.41% | Valid Acc: 94.37%\n",
      "EarlyStopping counter: 1 out of 7\n",
      "Epoch: 046/200 | Train MSE: 0.01 | Train Acc: 95.41% | Valid Acc: 94.41%\n",
      "Epoch: 047/200 | Train MSE: 0.01 | Train Acc: 95.55% | Valid Acc: 94.47%\n",
      "Epoch: 048/200 | Train MSE: 0.01 | Train Acc: 95.63% | Valid Acc: 94.56%\n",
      "Epoch: 049/200 | Train MSE: 0.01 | Train Acc: 95.69% | Valid Acc: 94.63%\n",
      "Epoch: 050/200 | Train MSE: 0.01 | Train Acc: 95.70% | Valid Acc: 94.69%\n",
      "Epoch: 051/200 | Train MSE: 0.01 | Train Acc: 95.82% | Valid Acc: 94.77%\n",
      "Epoch: 052/200 | Train MSE: 0.01 | Train Acc: 95.82% | Valid Acc: 94.76%\n",
      "EarlyStopping counter: 1 out of 7\n",
      "Epoch: 053/200 | Train MSE: 0.01 | Train Acc: 95.88% | Valid Acc: 94.76%\n",
      "EarlyStopping counter: 2 out of 7\n",
      "Epoch: 054/200 | Train MSE: 0.01 | Train Acc: 95.95% | Valid Acc: 94.80%\n",
      "Epoch: 055/200 | Train MSE: 0.01 | Train Acc: 95.98% | Valid Acc: 94.84%\n",
      "Epoch: 056/200 | Train MSE: 0.01 | Train Acc: 96.09% | Valid Acc: 94.94%\n",
      "Epoch: 057/200 | Train MSE: 0.01 | Train Acc: 96.15% | Valid Acc: 95.03%\n",
      "Epoch: 058/200 | Train MSE: 0.01 | Train Acc: 96.25% | Valid Acc: 95.09%\n",
      "Epoch: 059/200 | Train MSE: 0.01 | Train Acc: 96.14% | Valid Acc: 95.03%\n",
      "EarlyStopping counter: 1 out of 7\n",
      "Epoch: 060/200 | Train MSE: 0.01 | Train Acc: 96.23% | Valid Acc: 95.09%\n",
      "Epoch: 061/200 | Train MSE: 0.01 | Train Acc: 96.26% | Valid Acc: 95.09%\n",
      "Epoch: 062/200 | Train MSE: 0.01 | Train Acc: 96.37% | Valid Acc: 95.14%\n",
      "Epoch: 063/200 | Train MSE: 0.01 | Train Acc: 96.38% | Valid Acc: 95.21%\n",
      "Epoch: 064/200 | Train MSE: 0.01 | Train Acc: 96.47% | Valid Acc: 95.22%\n",
      "Epoch: 065/200 | Train MSE: 0.01 | Train Acc: 96.42% | Valid Acc: 95.29%\n",
      "Epoch: 066/200 | Train MSE: 0.01 | Train Acc: 96.47% | Valid Acc: 95.24%\n",
      "EarlyStopping counter: 1 out of 7\n",
      "Epoch: 067/200 | Train MSE: 0.01 | Train Acc: 96.61% | Valid Acc: 95.31%\n",
      "Epoch: 068/200 | Train MSE: 0.01 | Train Acc: 96.59% | Valid Acc: 95.44%\n",
      "Epoch: 069/200 | Train MSE: 0.01 | Train Acc: 96.55% | Valid Acc: 95.32%\n",
      "EarlyStopping counter: 1 out of 7\n",
      "Epoch: 070/200 | Train MSE: 0.01 | Train Acc: 96.70% | Valid Acc: 95.35%\n",
      "EarlyStopping counter: 2 out of 7\n",
      "Epoch: 071/200 | Train MSE: 0.01 | Train Acc: 96.73% | Valid Acc: 95.50%\n",
      "Epoch: 072/200 | Train MSE: 0.01 | Train Acc: 96.71% | Valid Acc: 95.49%\n",
      "EarlyStopping counter: 1 out of 7\n",
      "Epoch: 073/200 | Train MSE: 0.01 | Train Acc: 96.77% | Valid Acc: 95.56%\n",
      "Epoch: 074/200 | Train MSE: 0.01 | Train Acc: 96.84% | Valid Acc: 95.55%\n",
      "EarlyStopping counter: 1 out of 7\n",
      "Epoch: 075/200 | Train MSE: 0.01 | Train Acc: 96.84% | Valid Acc: 95.55%\n",
      "EarlyStopping counter: 2 out of 7\n",
      "Epoch: 076/200 | Train MSE: 0.01 | Train Acc: 96.90% | Valid Acc: 95.54%\n",
      "EarlyStopping counter: 3 out of 7\n",
      "Epoch: 077/200 | Train MSE: 0.01 | Train Acc: 96.94% | Valid Acc: 95.59%\n",
      "Epoch: 078/200 | Train MSE: 0.01 | Train Acc: 96.98% | Valid Acc: 95.70%\n",
      "Epoch: 079/200 | Train MSE: 0.01 | Train Acc: 97.00% | Valid Acc: 95.71%\n",
      "Epoch: 080/200 | Train MSE: 0.01 | Train Acc: 97.09% | Valid Acc: 95.68%\n",
      "EarlyStopping counter: 1 out of 7\n",
      "Epoch: 081/200 | Train MSE: 0.01 | Train Acc: 97.08% | Valid Acc: 95.67%\n",
      "EarlyStopping counter: 2 out of 7\n",
      "Epoch: 082/200 | Train MSE: 0.01 | Train Acc: 97.11% | Valid Acc: 95.79%\n",
      "Epoch: 083/200 | Train MSE: 0.01 | Train Acc: 97.19% | Valid Acc: 95.76%\n",
      "EarlyStopping counter: 1 out of 7\n",
      "Epoch: 084/200 | Train MSE: 0.01 | Train Acc: 97.00% | Valid Acc: 95.70%\n",
      "EarlyStopping counter: 2 out of 7\n",
      "Epoch: 085/200 | Train MSE: 0.01 | Train Acc: 97.22% | Valid Acc: 95.78%\n",
      "EarlyStopping counter: 3 out of 7\n",
      "Epoch: 086/200 | Train MSE: 0.01 | Train Acc: 97.25% | Valid Acc: 95.73%\n",
      "EarlyStopping counter: 4 out of 7\n",
      "Epoch: 087/200 | Train MSE: 0.01 | Train Acc: 97.26% | Valid Acc: 95.80%\n",
      "Epoch: 088/200 | Train MSE: 0.01 | Train Acc: 97.31% | Valid Acc: 95.79%\n",
      "EarlyStopping counter: 1 out of 7\n",
      "Epoch: 089/200 | Train MSE: 0.01 | Train Acc: 97.33% | Valid Acc: 95.84%\n",
      "Epoch: 090/200 | Train MSE: 0.01 | Train Acc: 97.36% | Valid Acc: 95.94%\n",
      "Epoch: 091/200 | Train MSE: 0.00 | Train Acc: 97.40% | Valid Acc: 95.83%\n",
      "EarlyStopping counter: 1 out of 7\n",
      "Epoch: 092/200 | Train MSE: 0.00 | Train Acc: 97.41% | Valid Acc: 95.97%\n",
      "Epoch: 093/200 | Train MSE: 0.00 | Train Acc: 97.42% | Valid Acc: 95.91%\n",
      "EarlyStopping counter: 1 out of 7\n",
      "Epoch: 094/200 | Train MSE: 0.00 | Train Acc: 97.41% | Valid Acc: 95.87%\n",
      "EarlyStopping counter: 2 out of 7\n",
      "Epoch: 095/200 | Train MSE: 0.00 | Train Acc: 97.49% | Valid Acc: 95.84%\n",
      "EarlyStopping counter: 3 out of 7\n",
      "Epoch: 096/200 | Train MSE: 0.00 | Train Acc: 97.46% | Valid Acc: 95.95%\n",
      "EarlyStopping counter: 4 out of 7\n",
      "Epoch: 097/200 | Train MSE: 0.00 | Train Acc: 97.44% | Valid Acc: 95.88%\n",
      "EarlyStopping counter: 5 out of 7\n",
      "Epoch: 098/200 | Train MSE: 0.00 | Train Acc: 97.51% | Valid Acc: 95.90%\n",
      "EarlyStopping counter: 6 out of 7\n",
      "Epoch: 099/200 | Train MSE: 0.00 | Train Acc: 97.61% | Valid Acc: 95.92%\n",
      "EarlyStopping counter: 7 out of 7\n"
     ]
    }
   ],
   "source": [
    "epoch_loss, epoch_test_loss, epoch_train_acc, epoch_test_acc = model.train(X_train, y_train, X_test, y_test, num_epochs=200, learning_rate=0.1)"
   ]
  },
  {
   "cell_type": "code",
   "execution_count": 16,
   "metadata": {
    "id": "l1iEzfL9Pet8",
    "outputId": "24e2a41c-385d-410c-b23b-6c1145dfc0d8"
   },
   "outputs": [
    {
     "data": {
      "image/png": "[encoded data removed]",
      "text/plain": [
       "<Figure size 432x288 with 1 Axes>"
      ]
     },
     "metadata": {
      "needs_background": "light"
     },
     "output_type": "display_data"
    }
   ],
   "source": [
    "plt.plot(range(len(epoch_loss)), epoch_loss)\n",
    "plt.plot(range(len(epoch_test_loss)), epoch_test_loss)\n",
    "plt.ylabel('Mean squared error')\n",
    "plt.xlabel('Epoch')\n",
    "os.makedirs('results/model_2/', exist_ok=True)\n",
    "plt.savefig('results/model_2/mse.png')\n",
    "plt.show()"
   ]
  },
  {
   "cell_type": "code",
   "execution_count": 17,
   "metadata": {
    "id": "Gilhme_fPet9",
    "outputId": "7fdd68bc-3735-4cfc-8c7d-0d6fda1e7a5b"
   },
   "outputs": [
    {
     "data": {
      "image/png": "[encoded data removed]",
      "text/plain": [
       "<Figure size 432x288 with 1 Axes>"
      ]
     },
     "metadata": {
      "needs_background": "light"
     },
     "output_type": "display_data"
    }
   ],
   "source": [
    "plt.plot(range(len(epoch_train_acc)), epoch_train_acc,label='Train')\n",
    "plt.plot(range(len(epoch_test_acc)), epoch_test_acc,label='Test')\n",
    "plt.ylabel('Accuracy')\n",
    "plt.xlabel('Epochs')\n",
    "plt.legend(loc='lower right')\n",
    "os.makedirs('results/model_2/', exist_ok=True)\n",
    "plt.savefig('results/model_2/accuracy.png')\n",
    "plt.show()"
   ]
  },
  {
   "cell_type": "code",
   "execution_count": 18,
   "metadata": {
    "colab": {
     "base_uri": "https://localhost:8080/"
    },
    "id": "bD2OqSNIKkJv",
    "outputId": "086fde72-9a89-48e0-b7d8-2996377f0cbd"
   },
   "outputs": [
    {
     "name": "stdout",
     "output_type": "stream",
     "text": [
      "test MSE: 0.00685\n",
      "test accuracy: 95.919%\n"
     ]
    }
   ],
   "source": [
    "mse, acc, preds, targets = utils.compute_mse_and_acc(model, X_test, y_test)\n",
    "print(f'test MSE: {mse:.5f}')\n",
    "print(f'test accuracy: {acc*100:.3f}%')"
   ]
  },
  {
   "cell_type": "code",
   "execution_count": 19,
   "metadata": {
    "id": "tsIkwlCBPet9",
    "outputId": "83549be6-ad2b-4164-84df-4180954884b1"
   },
   "outputs": [
    {
     "data": {
      "text/plain": [
       "array([[2038,    0,    3,    1,    2,    9,   10,    2,    3,    3],\n",
       "       [   0, 2329,    6,    6,    3,    7,    0,    3,    4,    5],\n",
       "       [  15,    6, 2005,   12,   18,    1,    8,   14,   18,    0],\n",
       "       [   2,    1,   23, 2034,    0,   33,    6,   10,   25,    8],\n",
       "       [   3,    6,    4,    1, 1950,    0,   18,    5,    6,   54],\n",
       "       [   6,   13,    2,   28,   10, 1791,   16,    4,   15,    9],\n",
       "       [  15,    5,    2,    0,    7,   23, 2003,    1,    7,    0],\n",
       "       [   6,   14,   22,   11,   16,    3,    1, 2078,    6,   31],\n",
       "       [  10,   10,    8,   19,   10,   20,   11,    2, 1950,    8],\n",
       "       [  13,    5,    0,   21,   34,   12,    1,   22,   14, 1965]])"
      ]
     },
     "metadata": {},
     "output_type": "display_data"
    },
    {
     "name": "stdout",
     "output_type": "stream",
     "text": [
      "0.9591904761904761\n"
     ]
    }
   ],
   "source": [
    "display(confusion_matrix(targets, preds))\n",
    "print(accuracy_score(targets, preds))"
   ]
  },
  {
   "cell_type": "code",
   "execution_count": 20,
   "metadata": {
    "id": "LZp6LULkPet9"
   },
   "outputs": [],
   "source": [
    "mse, acc, proba, targets = utils.compute_mse_and_acc(model, X_test, y_test, return_proba=True)\n",
    "\n",
    "df_2 = pd.DataFrame(proba, columns = [f'proba_{p}' for p in range(10)])\n",
    "df_2['pred'] = np.array(proba).argmax(1)\n",
    "df_2['gt'] = np.array(targets)\n",
    "df_2.to_csv('results/model_2/results.csv', index=False)"
   ]
  },
  {
   "cell_type": "code",
   "execution_count": 21,
   "metadata": {
    "id": "jHUHipRDPet9",
    "outputId": "eae0c6d6-0564-40b3-b342-f39c5614564f"
   },
   "outputs": [
    {
     "data": {
      "text/plain": [
       "0.9961484389845406"
      ]
     },
     "execution_count": 21,
     "metadata": {},
     "output_type": "execute_result"
    }
   ],
   "source": [
    "roc_auc_score(utils.int_to_onehot(np.array(targets), 10), utils.sigmoid(np.array(proba)), average='macro', multi_class='ovo')"
   ]
  },
  {
   "cell_type": "markdown",
   "metadata": {
    "id": "ekq8pVuzKkJv"
   },
   "source": [
    "# Model 3 - Single Hidden Layer (Pytorch)"
   ]
  },
  {
   "cell_type": "code",
   "execution_count": 23,
   "metadata": {
    "executionInfo": {
     "elapsed": 287,
     "status": "ok",
     "timestamp": 1654627442772,
     "user": {
      "displayName": "Dan Presil",
      "userId": "15000716463230738543"
     },
     "user_tz": -180
    },
    "id": "eudrjmM2KkJw"
   },
   "outputs": [],
   "source": [
    "dataloader_train = torch.utils.data.DataLoader(model_3_pytorch_ann.MNIST784Dataset(X_train, y_train), batch_size=CFG['model_3']['batch_size'], shuffle=True, num_workers=multiprocessing.cpu_count()-1, pin_memory=False)\n",
    "dataloader_test = torch.utils.data.DataLoader(model_3_pytorch_ann.MNIST784Dataset(X_test, y_test), batch_size=CFG['model_3']['batch_size'], shuffle=False, num_workers=multiprocessing.cpu_count()-1, pin_memory=False)"
   ]
  },
  {
   "cell_type": "code",
   "execution_count": 24,
   "metadata": {
    "colab": {
     "base_uri": "https://localhost:8080/"
    },
    "executionInfo": {
     "elapsed": 2,
     "status": "ok",
     "timestamp": 1654627564423,
     "user": {
      "displayName": "Dan Presil",
      "userId": "15000716463230738543"
     },
     "user_tz": -180
    },
    "id": "3JYd3sCXKkJw",
    "outputId": "5ac359da-ee6d-46be-8924-b4395bc27650"
   },
   "outputs": [
    {
     "name": "stdout",
     "output_type": "stream",
     "text": [
      "Net(\n",
      "  (layers): Sequential(\n",
      "    (0): Linear(in_features=784, out_features=50, bias=True)\n",
      "    (1): Sigmoid()\n",
      "    (2): Linear(in_features=50, out_features=50, bias=True)\n",
      "    (3): Sigmoid()\n",
      "    (4): Linear(in_features=50, out_features=10, bias=True)\n",
      "  )\n",
      ")\n"
     ]
    }
   ],
   "source": [
    "\n",
    "model = model_3_pytorch_ann.Net(input_dim=CFG['model_3']['input_dim'], hidden_dim=CFG['model_3']['hidden_dim'], output_dim=CFG['model_3']['output_dim'])\n",
    "\n",
    "criterion = eval(CFG['model_3']['criterion'])()\n",
    "\n",
    "learning_rate = 0.01\n",
    "optimizer = eval(CFG['model_3']['optimizer']['name'])(model.parameters(), **CFG['model_3']['optimizer']['params'])\n",
    "model = model.to('cuda')  \n",
    "print(model)\n",
    "\n"
   ]
  },
  {
   "cell_type": "code",
   "execution_count": 25,
   "metadata": {
    "colab": {
     "base_uri": "https://localhost:8080/"
    },
    "id": "ifAUE6rxKkJw",
    "outputId": "3fe5bc8e-09b1-41e3-c424-46c0688941c6"
   },
   "outputs": [
    {
     "name": "stdout",
     "output_type": "stream",
     "text": [
      "Epoch: 000/200 | Test loss: 2.07 | Test loss: 1.48| Train acc: 0.322 | Test acc: 0.561\n",
      "Epoch: 001/200 | Test loss: 1.01 | Test loss: 0.72| Train acc: 0.728 | Test acc: 0.817\n",
      "Epoch: 002/200 | Test loss: 0.58 | Test loss: 0.50| Train acc: 0.850 | Test acc: 0.867\n",
      "Epoch: 003/200 | Test loss: 0.43 | Test loss: 0.40| Train acc: 0.882 | Test acc: 0.892\n",
      "Epoch: 004/200 | Test loss: 0.36 | Test loss: 0.35| Train acc: 0.900 | Test acc: 0.904\n",
      "Epoch: 005/200 | Test loss: 0.32 | Test loss: 0.31| Train acc: 0.912 | Test acc: 0.912\n",
      "Epoch: 006/200 | Test loss: 0.28 | Test loss: 0.29| Train acc: 0.920 | Test acc: 0.917\n",
      "Epoch: 007/200 | Test loss: 0.26 | Test loss: 0.26| Train acc: 0.927 | Test acc: 0.927\n",
      "Epoch: 008/200 | Test loss: 0.24 | Test loss: 0.24| Train acc: 0.933 | Test acc: 0.931\n",
      "Epoch: 009/200 | Test loss: 0.22 | Test loss: 0.23| Train acc: 0.939 | Test acc: 0.934\n",
      "Epoch: 010/200 | Test loss: 0.21 | Test loss: 0.22| Train acc: 0.943 | Test acc: 0.938\n",
      "Epoch: 011/200 | Test loss: 0.19 | Test loss: 0.20| Train acc: 0.946 | Test acc: 0.943\n",
      "Epoch: 012/200 | Test loss: 0.18 | Test loss: 0.19| Train acc: 0.950 | Test acc: 0.943\n",
      "EarlyStopping counter: 1 out of 7\n",
      "Epoch: 013/200 | Test loss: 0.17 | Test loss: 0.19| Train acc: 0.952 | Test acc: 0.948\n",
      "Epoch: 014/200 | Test loss: 0.16 | Test loss: 0.18| Train acc: 0.955 | Test acc: 0.950\n",
      "Epoch: 015/200 | Test loss: 0.15 | Test loss: 0.17| Train acc: 0.957 | Test acc: 0.953\n",
      "Epoch: 016/200 | Test loss: 0.14 | Test loss: 0.17| Train acc: 0.959 | Test acc: 0.952\n",
      "EarlyStopping counter: 1 out of 7\n",
      "Epoch: 017/200 | Test loss: 0.14 | Test loss: 0.16| Train acc: 0.962 | Test acc: 0.954\n",
      "Epoch: 018/200 | Test loss: 0.13 | Test loss: 0.15| Train acc: 0.963 | Test acc: 0.957\n",
      "Epoch: 019/200 | Test loss: 0.13 | Test loss: 0.15| Train acc: 0.965 | Test acc: 0.956\n",
      "EarlyStopping counter: 1 out of 7\n",
      "Epoch: 020/200 | Test loss: 0.12 | Test loss: 0.14| Train acc: 0.967 | Test acc: 0.958\n",
      "Epoch: 021/200 | Test loss: 0.11 | Test loss: 0.14| Train acc: 0.968 | Test acc: 0.959\n",
      "Epoch: 022/200 | Test loss: 0.11 | Test loss: 0.14| Train acc: 0.969 | Test acc: 0.960\n",
      "EarlyStopping counter: 1 out of 7\n",
      "Epoch: 023/200 | Test loss: 0.11 | Test loss: 0.13| Train acc: 0.971 | Test acc: 0.961\n",
      "Epoch: 024/200 | Test loss: 0.10 | Test loss: 0.13| Train acc: 0.972 | Test acc: 0.961\n",
      "EarlyStopping counter: 1 out of 7\n",
      "Epoch: 025/200 | Test loss: 0.10 | Test loss: 0.13| Train acc: 0.972 | Test acc: 0.962\n",
      "EarlyStopping counter: 2 out of 7\n",
      "Epoch: 026/200 | Test loss: 0.10 | Test loss: 0.13| Train acc: 0.974 | Test acc: 0.963\n",
      "Epoch: 027/200 | Test loss: 0.09 | Test loss: 0.13| Train acc: 0.974 | Test acc: 0.961\n",
      "EarlyStopping counter: 1 out of 7\n",
      "Epoch: 028/200 | Test loss: 0.09 | Test loss: 0.12| Train acc: 0.975 | Test acc: 0.964\n",
      "Epoch: 029/200 | Test loss: 0.09 | Test loss: 0.13| Train acc: 0.976 | Test acc: 0.963\n",
      "EarlyStopping counter: 1 out of 7\n",
      "Epoch: 030/200 | Test loss: 0.08 | Test loss: 0.13| Train acc: 0.977 | Test acc: 0.963\n",
      "EarlyStopping counter: 2 out of 7\n",
      "Epoch: 031/200 | Test loss: 0.08 | Test loss: 0.12| Train acc: 0.978 | Test acc: 0.964\n",
      "EarlyStopping counter: 3 out of 7\n",
      "Epoch: 032/200 | Test loss: 0.08 | Test loss: 0.12| Train acc: 0.978 | Test acc: 0.964\n",
      "EarlyStopping counter: 4 out of 7\n",
      "Epoch: 033/200 | Test loss: 0.08 | Test loss: 0.12| Train acc: 0.979 | Test acc: 0.966\n",
      "Epoch: 034/200 | Test loss: 0.08 | Test loss: 0.11| Train acc: 0.979 | Test acc: 0.966\n",
      "EarlyStopping counter: 1 out of 7\n",
      "Epoch: 035/200 | Test loss: 0.07 | Test loss: 0.12| Train acc: 0.980 | Test acc: 0.965\n",
      "EarlyStopping counter: 2 out of 7\n",
      "Epoch: 036/200 | Test loss: 0.07 | Test loss: 0.12| Train acc: 0.981 | Test acc: 0.965\n",
      "EarlyStopping counter: 3 out of 7\n",
      "Epoch: 037/200 | Test loss: 0.07 | Test loss: 0.12| Train acc: 0.981 | Test acc: 0.966\n",
      "EarlyStopping counter: 4 out of 7\n",
      "Epoch: 038/200 | Test loss: 0.07 | Test loss: 0.11| Train acc: 0.982 | Test acc: 0.966\n",
      "EarlyStopping counter: 5 out of 7\n",
      "Epoch: 039/200 | Test loss: 0.07 | Test loss: 0.11| Train acc: 0.982 | Test acc: 0.968\n",
      "Epoch: 040/200 | Test loss: 0.06 | Test loss: 0.11| Train acc: 0.983 | Test acc: 0.966\n",
      "EarlyStopping counter: 1 out of 7\n",
      "Epoch: 041/200 | Test loss: 0.06 | Test loss: 0.12| Train acc: 0.983 | Test acc: 0.966\n",
      "EarlyStopping counter: 2 out of 7\n",
      "Epoch: 042/200 | Test loss: 0.06 | Test loss: 0.11| Train acc: 0.984 | Test acc: 0.966\n",
      "EarlyStopping counter: 3 out of 7\n",
      "Epoch: 043/200 | Test loss: 0.06 | Test loss: 0.11| Train acc: 0.984 | Test acc: 0.968\n",
      "EarlyStopping counter: 4 out of 7\n",
      "Epoch: 044/200 | Test loss: 0.06 | Test loss: 0.12| Train acc: 0.985 | Test acc: 0.965\n",
      "EarlyStopping counter: 5 out of 7\n",
      "Epoch: 045/200 | Test loss: 0.06 | Test loss: 0.11| Train acc: 0.985 | Test acc: 0.968\n",
      "EarlyStopping counter: 6 out of 7\n",
      "Epoch: 046/200 | Test loss: 0.05 | Test loss: 0.11| Train acc: 0.985 | Test acc: 0.968\n",
      "EarlyStopping counter: 7 out of 7\n"
     ]
    }
   ],
   "source": [
    "train_history = model_3_pytorch_ann.train(model, criterion, optimizer, dataloader_train, dataloader_test)"
   ]
  },
  {
   "cell_type": "code",
   "execution_count": 26,
   "metadata": {
    "id": "p8CQ4tmFKkJw"
   },
   "outputs": [],
   "source": [
    "lst_gt = []\n",
    "lst_pred = []\n",
    "probas = []\n",
    "for images, label_idxs in dataloader_test:\n",
    "    with torch.no_grad():\n",
    "        gt = list(label_idxs)\n",
    "        output = list(model(images.float().to('cuda')).cpu().numpy().argmax(1))\n",
    "        _probas = list(model(images.float().to('cuda')).cpu().numpy())\n",
    "        \n",
    "    lst_gt.extend(gt)\n",
    "    lst_pred.extend(output)\n",
    "    probas.extend(_probas)"
   ]
  },
  {
   "cell_type": "code",
   "execution_count": 27,
   "metadata": {},
   "outputs": [
    {
     "data": {
      "image/png": "[encoded data removed]",
      "text/plain": [
       "<Figure size 432x288 with 1 Axes>"
      ]
     },
     "metadata": {
      "needs_background": "light"
     },
     "output_type": "display_data"
    }
   ],
   "source": [
    "plt.plot(range(len(train_history['train_loss'])), train_history['train_loss'], label='Train')\n",
    "plt.plot(range(len(train_history['test_loss'])), train_history['test_loss'], label='Test')\n",
    "plt.ylabel('Loss')\n",
    "plt.xlabel('Epoch')\n",
    "os.makedirs('results/model_3/', exist_ok=True)\n",
    "plt.savefig('results/model_3/mse.png')\n",
    "plt.show()"
   ]
  },
  {
   "cell_type": "code",
   "execution_count": 28,
   "metadata": {},
   "outputs": [
    {
     "data": {
      "image/png": "[encoded data removed]",
      "text/plain": [
       "<Figure size 432x288 with 1 Axes>"
      ]
     },
     "metadata": {
      "needs_background": "light"
     },
     "output_type": "display_data"
    }
   ],
   "source": [
    "plt.plot(range(len(train_history['train_acc'])), train_history['train_acc'], label='Train')\n",
    "plt.plot(range(len(train_history['test_acc'])), train_history['test_acc'], label='Test')\n",
    "plt.ylabel('Accuracy')\n",
    "plt.xlabel('Epochs')\n",
    "plt.legend(loc='lower right')\n",
    "os.makedirs('results/model_3/', exist_ok=True)\n",
    "plt.savefig('results/model_3/accuracy.png')\n",
    "plt.show()"
   ]
  },
  {
   "cell_type": "code",
   "execution_count": 29,
   "metadata": {},
   "outputs": [],
   "source": [
    "df_3 = pd.DataFrame(probas, columns = [f'proba_{p}' for p in range(10)])\n",
    "df_3['pred'] = np.array(probas).argmax(1)\n",
    "df_3['gt'] = np.array(lst_gt)\n",
    "df_3.to_csv('results/model_3/results.csv', index=False)"
   ]
  },
  {
   "cell_type": "code",
   "execution_count": 30,
   "metadata": {
    "executionInfo": {
     "elapsed": 6,
     "status": "aborted",
     "timestamp": 1654627442776,
     "user": {
      "displayName": "Dan Presil",
      "userId": "15000716463230738543"
     },
     "user_tz": -180
    },
    "id": "1Fg88QVyKkJw"
   },
   "outputs": [
    {
     "data": {
      "text/plain": [
       "array([[2048,    0,    4,    0,    0,    3,   10,    1,    1,    4],\n",
       "       [   0, 2332,    8,    2,    5,    2,    0,    7,    4,    3],\n",
       "       [   8,    8, 2045,    8,    4,    1,    2,   13,    8,    0],\n",
       "       [   3,    2,   24, 2060,    0,   24,    1,   10,   14,    4],\n",
       "       [   1,    4,    5,    2, 1970,    1,   16,    7,    5,   36],\n",
       "       [  13,    4,    3,   20,    3, 1819,   11,    2,   14,    5],\n",
       "       [   7,   10,    4,    0,    5,   23, 2010,    0,    4,    0],\n",
       "       [   3,    9,   26,    9,    9,    1,    1, 2107,    3,   20],\n",
       "       [   8,    9,   18,   23,    5,   20,    7,    3, 1946,    9],\n",
       "       [   7,    3,    0,   20,   18,    8,    1,   26,    9, 1995]])"
      ]
     },
     "metadata": {},
     "output_type": "display_data"
    },
    {
     "name": "stdout",
     "output_type": "stream",
     "text": [
      "0.9681904761904762\n",
      "test MSE: 21.1\n",
      "test accuracy: 96.8%\n",
      "auc 0.9961782170900835\n"
     ]
    }
   ],
   "source": [
    "display(confusion_matrix(lst_gt, lst_pred))\n",
    "print(accuracy_score(lst_gt, lst_pred))\n",
    "\n",
    "mse = utils.mse_loss(y_test, probas)\n",
    "\n",
    "predicted_labels = np.argmax(probas, axis=1)\n",
    "acc = utils.accuracy(y_test, predicted_labels)\n",
    "\n",
    "print(f'test MSE: {mse:.1f}')\n",
    "print(f'test accuracy: {acc*100:.1f}%')\n",
    "\n",
    "print('auc', roc_auc_score(utils.int_to_onehot(np.array(y_test), 10), utils.sigmoid(np.array(probas)), average='macro', multi_class='ovo'))"
   ]
  },
  {
   "cell_type": "code",
   "execution_count": 53,
   "metadata": {},
   "outputs": [
    {
     "data": {
      "image/png": "[encoded data removed]",
      "text/plain": [
       "<Figure size 720x360 with 1 Axes>"
      ]
     },
     "metadata": {
      "needs_background": "light"
     },
     "output_type": "display_data"
    }
   ],
   "source": [
    "import numpy as np\n",
    "import matplotlib.pyplot as plt\n",
    "from itertools import cycle\n",
    "\n",
    "from sklearn import svm, datasets\n",
    "from sklearn.metrics import roc_curve, auc\n",
    "from sklearn.model_selection import train_test_split\n",
    "from sklearn.preprocessing import label_binarize\n",
    "from sklearn.multiclass import OneVsRestClassifier\n",
    "from sklearn.metrics import roc_auc_score\n",
    "\n",
    "\n",
    "df_1 = pd.read_csv('results/model_1/results.csv')\n",
    "df_2 = pd.read_csv('results/model_2/results.csv')\n",
    "df_3 = pd.read_csv('results/model_3/results.csv')\n",
    "\n",
    "plt.figure(figsize=(10,5))\n",
    "colors = ['r', 'g', 'b']\n",
    "for idx, _df in enumerate([df_1, df_2, df_3]):\n",
    "    y_test = pd.get_dummies(_df['gt'], prefix='gt').to_numpy()\n",
    "    y_score = _df[[f'proba_{l}' for l in range(10)]].to_numpy()\n",
    "\n",
    "    # Compute ROC curve and ROC area for each class\n",
    "    fpr = dict()\n",
    "    tpr = dict()\n",
    "    roc_auc = dict()\n",
    "    for i in range(n_classes):\n",
    "        fpr[i], tpr[i], _ = roc_curve(y_test[:, i], y_score[:, i])\n",
    "        roc_auc[i] = auc(fpr[i], tpr[i])\n",
    "\n",
    "    # Compute micro-average ROC curve and ROC area\n",
    "    fpr[\"micro\"], tpr[\"micro\"], _ = roc_curve(y_test.ravel(), y_score.ravel())\n",
    "    roc_auc[\"micro\"] = auc(fpr[\"micro\"], tpr[\"micro\"])\n",
    "\n",
    "    # First aggregate all false positive rates\n",
    "    all_fpr = np.unique(np.concatenate([fpr[i] for i in range(n_classes)]))\n",
    "\n",
    "    # Then interpolate all ROC curves at this points\n",
    "    mean_tpr = np.zeros_like(all_fpr)\n",
    "    for i in range(n_classes):\n",
    "        mean_tpr += np.interp(all_fpr, fpr[i], tpr[i])\n",
    "\n",
    "    # Finally average it and compute AUC\n",
    "    mean_tpr /= n_classes\n",
    "\n",
    "    fpr[\"macro\"] = all_fpr\n",
    "    tpr[\"macro\"] = mean_tpr\n",
    "    roc_auc[\"macro\"] = auc(fpr[\"macro\"], tpr[\"macro\"])\n",
    "\n",
    "    plt.plot(\n",
    "        fpr[\"macro\"],\n",
    "        tpr[\"macro\"],\n",
    "        label=f'model {idx} ' + \"macro-average ROC curve (area = {0:0.5f})\".format(roc_auc[\"macro\"]),\n",
    "        color=colors[idx],\n",
    "        linewidth=1,\n",
    "    )\n",
    "\n",
    "\n",
    "\n",
    "plt.plot([0, 1], [0, 1], \"k--\", lw=lw)\n",
    "\n",
    "\n",
    "plt.xlim([0.0, 1.0])\n",
    "plt.ylim([0.0, 1.05])\n",
    "plt.xlabel(\"False Positive Rate\")\n",
    "plt.ylabel(\"True Positive Rate\")\n",
    "plt.legend(loc=\"lower right\")\n",
    "plt.show()"
   ]
  }
 ],
 "metadata": {
  "anaconda-cloud": {},
  "colab": {
   "collapsed_sections": [],
   "name": "ch11 (1).ipynb",
   "provenance": [],
   "toc_visible": true
  },
  "kernelspec": {
   "display_name": "Python 3",
   "language": "python",
   "name": "python3"
  },
  "language_info": {
   "codemirror_mode": {
    "name": "ipython",
    "version": 3
   },
   "file_extension": ".py",
   "mimetype": "text/x-python",
   "name": "python",
   "nbconvert_exporter": "python",
   "pygments_lexer": "ipython3",
   "version": "3.8.5"
  }
 },
 "nbformat": 4,
 "nbformat_minor": 4
}
